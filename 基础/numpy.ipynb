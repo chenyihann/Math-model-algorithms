{
 "cells": [
  {
   "cell_type": "markdown",
   "metadata": {},
   "source": [
    "# numpy库"
   ]
  },
  {
   "cell_type": "code",
   "execution_count": null,
   "metadata": {},
   "outputs": [],
   "source": [
    "import numpy as np\n",
    "\n",
    "# 系数矩阵 A\n",
    "A = np.array([[1, 2], [3, 4], [5, 6]])\n",
    "\n",
    "# 观测值向量 b\n",
    "b = np.array([5, 6, 7])\n",
    "\n",
    "# 使用最小二乘法求解线性方程组，只关心解向量 x\n",
    "x = np.linalg.lstsq(A, b, rcond=None)[0]\n",
    "\n",
    "print(\"解向量 x:\", x)\n"
   ]
  },
  {
   "cell_type": "code",
   "execution_count": null,
   "metadata": {},
   "outputs": [],
   "source": [
    "# 三角函数\n",
    "import numpy as np\n",
    " \n",
    "a = np.array([0,30,45,60,90])\n",
    "print ('不同角度的正弦值：')\n",
    "# 通过乘 pi/180 转化为弧度  \n",
    "print (np.sin(a*np.pi/180))\n",
    "print ('\\n')\n",
    "print ('数组中角度的余弦值：')\n",
    "print (np.cos(a*np.pi/180))\n",
    "print ('\\n')\n",
    "print ('数组中角度的正切值：')\n",
    "print (np.tan(a*np.pi/180))\n"
   ]
  },
  {
   "cell_type": "code",
   "execution_count": null,
   "metadata": {},
   "outputs": [],
   "source": [
    "# 反三角函数\n",
    "import numpy as np\n",
    " \n",
    "a = np.array([0,30,45,60,90])  \n",
    "print ('含有正弦值的数组：')\n",
    "sin = np.sin(a*np.pi/180)  \n",
    "print (sin)\n",
    "print ('\\n')\n",
    "print ('计算角度的反正弦，返回值以弧度为单位：')\n",
    "inv = np.arcsin(sin)  \n",
    "print (inv)\n",
    "print ('\\n')\n",
    "print ('通过转化为角度制来检查结果：')\n",
    "print (np.degrees(inv))\n",
    "print ('\\n')\n",
    "print ('arccos 和 arctan 函数行为类似：')\n",
    "cos = np.cos(a*np.pi/180)  \n",
    "print (cos)\n",
    "print ('\\n')\n",
    "print ('反余弦：')\n",
    "inv = np.arccos(cos)  \n",
    "print (inv)\n",
    "print ('\\n')\n",
    "print ('角度制单位：')\n",
    "print (np.degrees(inv))\n",
    "print ('\\n')\n",
    "print ('tan 函数：')\n",
    "tan = np.tan(a*np.pi/180)  \n",
    "print (tan)\n",
    "print ('\\n')\n",
    "print ('反正切：')\n",
    "inv = np.arctan(tan)  \n",
    "print (inv)\n",
    "print ('\\n')\n",
    "print ('角度制单位：')\n",
    "print (np.degrees(inv))"
   ]
  },
  {
   "cell_type": "code",
   "execution_count": null,
   "metadata": {},
   "outputs": [],
   "source": [
    "# 自然底数e\n",
    "import numpy as np\n",
    "np.e\n",
    "# 底数为e的对数\n",
    "np.log(np.e)"
   ]
  },
  {
   "cell_type": "code",
   "execution_count": null,
   "metadata": {},
   "outputs": [],
   "source": [
    "# 其他底数\n",
    "import numpy as np\n",
    "# way1\n",
    "def log(base,x):\n",
    "    return np.log(x)/np.log(base)\n",
    "# 调用函数,不用加np.前缀\n",
    "log(2,8)\n",
    "\n",
    "# way2\n",
    "x = 2\n",
    "np.log10(x)  #以10为底\n",
    "np.log2(x)\n",
    "np.log1p(x) # 等价于：np.log(x + 1)\n",
    "\n",
    "# way3 调用math库\n",
    "import math \n",
    "# 以3为底数2为指数\n",
    "print(math.pow(3,2))\n"
   ]
  },
  {
   "cell_type": "code",
   "execution_count": null,
   "metadata": {},
   "outputs": [],
   "source": [
    "import numpy as np\n",
    "x = np.array([[1, 2, 3],\n",
    "             [4, 5, 6]])\n",
    "   \n",
    "y = np.array([1, 2, 3])\n",
    "\n",
    "y_1 = np.array([[1],\n",
    "                [2],\n",
    "                [3]])\n",
    "# dot()矩阵相乘/点乘\n",
    "print(np.dot(x, y))\n",
    "\n",
    "print(np.dot(x, y_1))"
   ]
  },
  {
   "cell_type": "code",
   "execution_count": null,
   "metadata": {},
   "outputs": [],
   "source": [
    "import numpy as np\n",
    "from numpy.linalg import pinv,eig, det\n",
    "x = np.array([[1, -2, 1],\n",
    "              [-2, 1, 1],\n",
    "              [1, 1, -2]]) \n",
    "trans = x.T\n",
    "# [[1 4 7]\n",
    "#  [2 5 8]\n",
    "#  [3 6 9]]\n",
    "inverse = pinv(x)\n",
    "\n",
    "determinant = det(x)\n",
    "\n",
    "eigen_value, eigen_vector = eig(x)\n",
    "\n",
    "print(eigen_value)"
   ]
  },
  {
   "cell_type": "code",
   "execution_count": null,
   "metadata": {},
   "outputs": [],
   "source": [
    "# 举例\n",
    "import numpy as np\n",
    "A = np.array([[2,5],\n",
    "              [1,3]])\n",
    "value, vector = np.linalg.eig(A)\n",
    "\n",
    "print(np.linalg.inv(A))\n",
    "print(value)\n",
    "print(vector)"
   ]
  },
  {
   "cell_type": "markdown",
   "metadata": {},
   "source": [
    "## np.split(a,b,axis=)"
   ]
  },
  {
   "cell_type": "code",
   "execution_count": null,
   "metadata": {},
   "outputs": [],
   "source": [
    "import numpy as np\n",
    "\n",
    "# 创建一个一维数组\n",
    "arr = np.array([1, 2, 3, 4, 5, 6, 7, 8, 9])\n",
    "\n",
    "# 将数组拆分为3个子数组np.array型\n",
    "split_arr = np.split(arr, 3)\n",
    "\n",
    "# 打印拆分后的子数组\n",
    "for sub_arr in split_arr:\n",
    "    print(sub_arr)\n",
    "print(split_arr)"
   ]
  },
  {
   "cell_type": "code",
   "execution_count": null,
   "metadata": {},
   "outputs": [],
   "source": [
    "# 不均匀拆分\n",
    "arr = np.array([1, 2, 3, 4, 5, 6, 7, 8, 9])\n",
    "# 拆分依据数字结尾\n",
    "split_arr = np.split(arr, [3, 5])\n",
    "\n",
    "for sub_arr in split_arr:\n",
    "    print(sub_arr)"
   ]
  },
  {
   "cell_type": "code",
   "execution_count": null,
   "metadata": {},
   "outputs": [],
   "source": [
    "# 按轴拆分\n",
    "arr_2d = np.array([[1, 2, 3], [4, 5, 6], [7, 8, 9]])\n",
    "split_arr_2d = np.split(arr_2d, 2, axis=1)\n",
    "\n",
    "for sub_arr in split_arr_2d:\n",
    "    print(sub_arr)\n"
   ]
  },
  {
   "cell_type": "code",
   "execution_count": null,
   "metadata": {},
   "outputs": [],
   "source": [
    "# 实例\n",
    "import numpy as np\n",
    "\n",
    "# 创建一个包含多个样本的一维数组\n",
    "samples = np.array([1, 2, 3, 4, 5, 6, 7, 8, 9, 10, 11, 12])\n",
    "\n",
    "# 将样本重塑为二维数组，每个样本一行\n",
    "samples_2d = samples.reshape(-1, 3)\n",
    "\n",
    "# 将样本拆分为训练集和测试集\n",
    "train_size = int(0.8 * len(samples_2d))\n",
    "test_size = len(samples_2d) - train_size\n",
    "train_samples, test_samples = np.split(samples_2d, [train_size, test_size])\n",
    "\n",
    "print(\"训练集：\")\n",
    "print(train_samples)\n",
    "\n",
    "print(\"\\n测试集：\")\n",
    "print(test_samples)\n"
   ]
  },
  {
   "cell_type": "code",
   "execution_count": null,
   "metadata": {},
   "outputs": [],
   "source": [
    "import numpy as np\n",
    "A=np.array([[1,-2,1],\n",
    "            [-2,1,1],\n",
    "            [1,1,-2]])\n",
    "eigen_value,eigen_vector = np.linalg.eig(A)\n",
    "print(eigen_value)"
   ]
  },
  {
   "cell_type": "code",
   "execution_count": null,
   "metadata": {},
   "outputs": [],
   "source": []
  }
 ],
 "metadata": {
  "kernelspec": {
   "display_name": "Python 3",
   "language": "python",
   "name": "python3"
  },
  "language_info": {
   "codemirror_mode": {
    "name": "ipython",
    "version": 3
   },
   "file_extension": ".py",
   "mimetype": "text/x-python",
   "name": "python",
   "nbconvert_exporter": "python",
   "pygments_lexer": "ipython3",
   "version": "3.9.13"
  }
 },
 "nbformat": 4,
 "nbformat_minor": 2
}
