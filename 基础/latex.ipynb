{
 "cells": [
  {
   "cell_type": "markdown",
   "metadata": {},
   "source": [
    "\n",
    "大括号\n",
    "$$\n",
    "TOA_{ij}= \\begin{cases}\n",
    "\tct_1 = \\sqrt {(x_1-x)^2+(y_1-y)^2+(z_1-z)^2}\t\\\\\n",
    "\tct_4 = \\sqrt {(x_4-x)^2+(y_4-y)^2+(z_4-z)^2}\n",
    "\\end{cases}\n",
    "$$"
   ]
  },
  {
   "cell_type": "markdown",
   "metadata": {},
   "source": [
    "标签+居中\n",
    "$$ F(x, y) = x^2 + y^2 + \\sin(x) + (1 - 0.001)x^2 \\tag{5.1.2}$$"
   ]
  },
  {
   "cell_type": "markdown",
   "metadata": {},
   "source": [
    "$$\\int_{0}^{\\infty} e^{-x}cos(wx) dx = \\frac{1}{1+w^2} $$\n",
    "积分符号：\n",
    "$$\\int_{a}^{b}$$\n",
    "无穷符号：\n",
    "$$\\infty $$"
   ]
  },
  {
   "cell_type": "markdown",
   "metadata": {},
   "source": [
    "多重积分：\n",
    "$$\\iint_V \\mu(u,v) \\,du\\,dv$$\n",
    "$$\\iiint_V \\mu(u,v,w) \\,du\\,dv\\,dw$$"
   ]
  },
  {
   "cell_type": "markdown",
   "metadata": {},
   "source": [
    "连乘符号：\n",
    "$$\\prod_{i=a}^{b} f(i)$$"
   ]
  },
  {
   "cell_type": "markdown",
   "metadata": {},
   "source": [
    "$$\\int_{0}^{\\infty} t^{-\\frac{1}{2}}e^{-pt} dt = \\sqrt{\\frac{\\pi}{p}} $$"
   ]
  },
  {
   "cell_type": "markdown",
   "metadata": {},
   "source": [
    "设置颜色\n",
    "\n",
    "$$ \\color{#FF0000}{n} $$"
   ]
  }
 ],
 "metadata": {
  "kernelspec": {
   "display_name": "Python 3",
   "language": "python",
   "name": "python3"
  },
  "language_info": {
   "codemirror_mode": {
    "name": "ipython",
    "version": 3
   },
   "file_extension": ".py",
   "mimetype": "text/x-python",
   "name": "python",
   "nbconvert_exporter": "python",
   "pygments_lexer": "ipython3",
   "version": "3.9.13"
  }
 },
 "nbformat": 4,
 "nbformat_minor": 2
}
