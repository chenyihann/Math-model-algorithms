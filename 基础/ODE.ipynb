{
 "cells": [
  {
   "cell_type": "markdown",
   "metadata": {},
   "source": [
    "## python求解常微分方程"
   ]
  },
  {
   "cell_type": "code",
   "execution_count": null,
   "metadata": {},
   "outputs": [],
   "source": [
    "# 一阶常微分方程\n",
    "\n",
    "import sympy as sp\n",
    "x = sp.var('x')\n",
    "y = sp.Function('y')\n",
    "eq = y(x).diff(x)+2*y(x)-2*x**2-2*x\n",
    "\n",
    "# ics={}传入初始条件\n",
    "s = sp.dsolve(eq,ics = {y(0):1})\n",
    "\n",
    "# 给方程化简可有可无\n",
    "s = sp.simplify(s)\n",
    "print(s)"
   ]
  },
  {
   "cell_type": "code",
   "execution_count": null,
   "metadata": {},
   "outputs": [],
   "source": [
    "# 二阶常微分方程\n",
    "\n",
    "import sympy as sp\n",
    "x = sp.var('x')\n",
    "y = sp.Function('y')\n",
    "eq = y(x).diff(x,2)-2*y(x).diff(x)+y(x)-sp.exp(x)\n",
    "\n",
    "# 传入一个字典(表示初始化的值)\n",
    "con = {y(0):1,y(x).diff(x).subs(x,0):-1}\n",
    "s = sp.dsolve(eq,ics = con)\n",
    "print(s)"
   ]
  },
  {
   "cell_type": "code",
   "execution_count": null,
   "metadata": {},
   "outputs": [],
   "source": [
    "# 两个函数求微分方程\n",
    "\n",
    "import sympy as sp\n",
    "\n",
    "# 定义函数变量\n",
    "t = sp.var('t')\n",
    "y = sp.Function('y')\n",
    "u = sp.Function('u')\n",
    "u = sp.exp(-t)*sp.cos(t)\n",
    "\n",
    "# 目标方程\n",
    "eq = y(t).diff(t,4)+10*y(t).diff(t,3)+35*y(t).diff(t,2)+50*y(t).diff(t,1)+\\\n",
    "    24*y(t)-sp.diff(u,t,2)\n",
    "\n",
    "# 初值条件\n",
    "con = {\n",
    "    y(0):0,\n",
    "    y(t).diff(t).subs(t,0):-1,\n",
    "    y(t).diff(t,2).subs(t,0):1,\n",
    "    y(t).diff(t,3).subs(t,0):1\n",
    "} \n",
    "s = sp.dsolve(eq,ics=con)\n",
    "s = sp.expand(s)\n",
    "print(s)\n",
    "print('第二个子项','*'*50)\n",
    "print(s.args[1])"
   ]
  },
  {
   "cell_type": "code",
   "execution_count": null,
   "metadata": {},
   "outputs": [],
   "source": [
    "# 矩阵求解微分方程\n",
    "\n",
    "import sympy as sp\n",
    "sp.var('t')\n",
    "# 定义变量x从1到3左闭右开 x1:4\n",
    "sp.var('x1:4',cls = sp.Function)\n",
    "x = sp.Matrix([x1(t),x2(t),x3(t)])\n",
    "A = sp.Matrix([[3,-1,1],\n",
    "               [2,0,-1],\n",
    "               [1,-1,2]])\n",
    "eq = x.diff(t)-A@x\n",
    "\n",
    "# 初值条件\n",
    "con = {x1(0):1,x2(0):1,x3(0):1}\n",
    "s = sp.dsolve(eq,ics = con)\n",
    "print(s)"
   ]
  },
  {
   "cell_type": "code",
   "execution_count": 2,
   "metadata": {},
   "outputs": [
    {
     "name": "stdout",
     "output_type": "stream",
     "text": [
      "x = [0.         0.10344828 0.20689655 0.31034483 0.4137931  0.51724138\n",
      " 0.62068966 0.72413793 0.82758621 0.93103448 1.03448276 1.13793103\n",
      " 1.24137931 1.34482759 1.44827586 1.55172414 1.65517241 1.75862069\n",
      " 1.86206897 1.96551724 2.06896552 2.17241379 2.27586207 2.37931034\n",
      " 2.48275862 2.5862069  2.68965517 2.79310345 2.89655172 3.        ]\n",
      "对应的数值解y = [1.         0.82380532 0.70394393 0.6338875  0.60832784 0.62294884\n",
      " 0.67424099 0.75935081 0.87595804 1.02217608 1.19647095 1.39759535\n",
      " 1.6245351  1.87646557 2.15271624 2.45274191 2.7760993  3.12242793\n",
      " 3.49143473 3.88288139 4.29657414 4.73235543 5.19009716 5.66969515\n",
      " 6.17106471 6.69413697 7.23885594 7.80517609 8.39306039 9.00247875]\n"
     ]
    },
    {
     "data": {
      "image/png": "[encoded data removed]",
      "text/plain": [
       "<Figure size 640x480 with 1 Axes>"
      ]
     },
     "metadata": {},
     "output_type": "display_data"
    }
   ],
   "source": [
    "import sympy as sp\n",
    "import numpy as np\n",
    "import pylab as plt\n",
    "from scipy.integrate import odeint\n",
    "# 定义方程，类似于隐函数\n",
    "dy = lambda y,x : -2*y+2*x**2+2*x\n",
    "xx = np.linspace(0,3,30)\n",
    "s = odeint(dy,1,xx)\n",
    "print('x = {}\\n对应的数值解y = {}'.format(xx,s.flatten()))\n",
    "plt.plot(xx,s,'.')\n",
    "sp.var('x')\n",
    "y = sp.Function('y')\n",
    "eq = y(x).diff(x)+2*y(x)-2*x**2-2*x\n",
    "s2 = sp.dsolve(eq,ics={y(0):1})\n",
    "\n",
    "# 符号函数转匿名函数 转化为numpy的操作对象\n",
    "sx = sp.lambdify(x,s2.args[1],'numpy')\n",
    "plt.plot(xx,sx(xx))\n",
    "plt.show()"
   ]
  },
  {
   "cell_type": "code",
   "execution_count": null,
   "metadata": {},
   "outputs": [],
   "source": [
    "# 求解隐函数方程\n",
    "from sympy import solve,symbols,Eq\n",
    "x,y = sp.symbols('x,y')\n",
    "# 左边表达式，右边值f(x,y)=0\n",
    "s2 = Eq(y*x**2 + y**2 - 1, 0)\n",
    "# 解隐函数方程\n",
    "solutions = solve(s2, x)\n",
    "\n",
    "# 提取关于 x 的表达式\n",
    "# 输出多个参数的返回值，只取第一个返回值\n",
    "x_expression = solutions[0]\n",
    "print(x_expression)"
   ]
  },
  {
   "cell_type": "code",
   "execution_count": null,
   "metadata": {},
   "outputs": [],
   "source": [
    "from sympy import symbols\n",
    "x, y = symbols('x y')\n",
    "f = x**2 + y\n",
    "print(f.args[0])"
   ]
  }
 ],
 "metadata": {
  "kernelspec": {
   "display_name": "Python 3",
   "language": "python",
   "name": "python3"
  },
  "language_info": {
   "codemirror_mode": {
    "name": "ipython",
    "version": 3
   },
   "file_extension": ".py",
   "mimetype": "text/x-python",
   "name": "python",
   "nbconvert_exporter": "python",
   "pygments_lexer": "ipython3",
   "version": "3.9.13"
  }
 },
 "nbformat": 4,
 "nbformat_minor": 2
}
